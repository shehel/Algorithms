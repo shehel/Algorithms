{
 "cells": [
  {
   "cell_type": "code",
   "execution_count": 19,
   "metadata": {
    "ExecuteTime": {
     "end_time": "2018-03-07T11:11:38.600671Z",
     "start_time": "2018-03-07T11:11:38.597336Z"
    },
    "collapsed": true
   },
   "outputs": [],
   "source": [
    "%matplotlib inline\n",
    "import pandas as pd\n",
    "import numpy as np\n",
    "import matplotlib.pyplot as plt\n",
    "import seaborn as sns"
   ]
  },
  {
   "cell_type": "code",
   "execution_count": 20,
   "metadata": {
    "ExecuteTime": {
     "end_time": "2018-03-07T11:11:38.893678Z",
     "start_time": "2018-03-07T11:11:38.887310Z"
    },
    "collapsed": true
   },
   "outputs": [],
   "source": [
    "dfX = pd.read_csv('./data/ex4x.dat', delim_whitespace = True, names = [\"exam1\", \"exam2\"])\n",
    "dfY = pd.read_csv('./data/ex4y.dat', names = ['label'])\n",
    "dfXcpy = dfX.copy()\n",
    "dfXcpy['label'] = dfY['label']\n"
   ]
  },
  {
   "cell_type": "code",
   "execution_count": 21,
   "metadata": {
    "ExecuteTime": {
     "end_time": "2018-03-07T11:11:39.157767Z",
     "start_time": "2018-03-07T11:11:39.154393Z"
    }
   },
   "outputs": [],
   "source": [
    "dfX.insert(0, 'bias', 1)\n",
    "matrixX = dfX.as_matrix()\n",
    "\n",
    "matrixY = dfY.as_matrix()\n",
    "m = len(dfX.index)"
   ]
  },
  {
   "cell_type": "code",
   "execution_count": 22,
   "metadata": {
    "ExecuteTime": {
     "end_time": "2018-03-07T11:11:39.455623Z",
     "start_time": "2018-03-07T11:11:39.449420Z"
    },
    "collapsed": true
   },
   "outputs": [],
   "source": [
    "theta = np.zeros(3)\n",
    "theta = np.reshape(theta, (3, 1))"
   ]
  },
  {
   "cell_type": "code",
   "execution_count": 23,
   "metadata": {
    "ExecuteTime": {
     "end_time": "2018-03-07T11:11:39.896004Z",
     "start_time": "2018-03-07T11:11:39.776663Z"
    },
    "scrolled": false
   },
   "outputs": [
    {
     "data": {
      "text/plain": [
       "<seaborn.axisgrid.PairGrid at 0x7f962c22b5f8>"
      ]
     },
     "execution_count": 23,
     "metadata": {},
     "output_type": "execute_result"
    },
    {
     "data": {
      "image/png": "[encoded data removed]",
      "text/plain": [
       "<matplotlib.figure.Figure at 0x7f962c22b668>"
      ]
     },
     "metadata": {},
     "output_type": "display_data"
    }
   ],
   "source": [
    "sns.pairplot(x_vars=[\"exam1\"], y_vars=[\"exam2\"], data=dfXcpy, hue=\"label\", size=5)"
   ]
  },
  {
   "cell_type": "code",
   "execution_count": 24,
   "metadata": {
    "ExecuteTime": {
     "end_time": "2018-03-07T11:11:40.101348Z",
     "start_time": "2018-03-07T11:11:40.095111Z"
    },
    "collapsed": true
   },
   "outputs": [],
   "source": [
    "def sigmoid(x):\n",
    "    return 1/(1+np.exp(-x))"
   ]
  },
  {
   "cell_type": "code",
   "execution_count": 25,
   "metadata": {
    "ExecuteTime": {
     "end_time": "2018-03-07T11:11:40.454363Z",
     "start_time": "2018-03-07T11:11:40.443134Z"
    },
    "collapsed": true
   },
   "outputs": [],
   "source": [
    "max_iter = 7 # maximum allowed iterations\n",
    "\n",
    "for i in range(max_iter):\n",
    "    z = np.dot(matrixX, theta)\n",
    "    h = (sigmoid(z))\n",
    "    \n",
    "    # gradient element\n",
    "    sodot = h - matrixY\n",
    "    gradient = np.dot(matrixX.transpose(), sodot) / m\n",
    "    \n",
    "    \n",
    "    # hessian element\n",
    "    bodot = np.dot(np.diag(h), np.diag((1 - h)))\n",
    "    codot = np.dot(matrixX.transpose(), bodot)\n",
    "    hessian = np.dot(codot, matrixX) / m\n",
    "    hessian = np.linalg.inv(hessian)\n",
    "\n",
    "    theta = theta - np.dot(hessian, gradient)"
   ]
  },
  {
   "cell_type": "code",
   "execution_count": 26,
   "metadata": {
    "ExecuteTime": {
     "end_time": "2018-03-07T11:11:40.778165Z",
     "start_time": "2018-03-07T11:11:40.767603Z"
    }
   },
   "outputs": [
    {
     "name": "stdout",
     "output_type": "stream",
     "text": [
      "[[-16.37058223]\n",
      " [  0.14870783]\n",
      " [  0.15846535]]\n"
     ]
    }
   ],
   "source": [
    "print (theta)\n",
    "w1 = theta[0][0]\n",
    "w2 = theta[1][0]\n",
    "w3 = theta[2][0]"
   ]
  },
  {
   "cell_type": "code",
   "execution_count": 27,
   "metadata": {
    "ExecuteTime": {
     "end_time": "2018-03-07T11:11:41.195052Z",
     "start_time": "2018-03-07T11:11:41.093749Z"
    },
    "scrolled": true
   },
   "outputs": [
    {
     "data": {
      "image/png": "[encoded data removed]",
      "text/plain": [
       "<matplotlib.figure.Figure at 0x7f962c1fbbe0>"
      ]
     },
     "metadata": {},
     "output_type": "display_data"
    }
   ],
   "source": [
    "# plotting decision boundary\n",
    "ex1 = np.linspace(15, 60, 80)\n",
    "ex2 = (-w1/w3)+(-w2/w3)*ex1\n",
    "sns.pairplot(x_vars=[\"exam1\"], y_vars=[\"exam2\"], data=dfXcpy, hue=\"label\", size=5)\n",
    "plt.plot(ex1, ex2, color='r', label='decision boundary');"
   ]
  }
 ],
 "metadata": {
  "kernelspec": {
   "display_name": "Python 3",
   "language": "python",
   "name": "python3"
  },
  "language_info": {
   "codemirror_mode": {
    "name": "ipython",
    "version": 3
   },
   "file_extension": ".py",
   "mimetype": "text/x-python",
   "name": "python",
   "nbconvert_exporter": "python",
   "pygments_lexer": "ipython3",
   "version": "3.6.4"
  }
 },
 "nbformat": 4,
 "nbformat_minor": 2
}
